{
 "cells": [
  {
   "cell_type": "markdown",
   "metadata": {},
   "source": [
    "- load data\n",
    "- study it\n",
    "- clean it\n",
    "- split\n",
    "- train a model \n",
    "- evalute\n",
    "- retrain with test dataset"
   ]
  },
  {
   "cell_type": "markdown",
   "metadata": {},
   "source": []
  }
 ],
 "metadata": {
  "language_info": {
   "name": "python"
  }
 },
 "nbformat": 4,
 "nbformat_minor": 2
}
