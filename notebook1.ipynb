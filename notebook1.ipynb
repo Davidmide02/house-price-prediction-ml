{
 "cells": [
  {
   "cell_type": "markdown",
   "metadata": {},
   "source": [
    "# House Prediction Model"
   ]
  },
  {
   "cell_type": "markdown",
   "metadata": {},
   "source": [
    "- load data\n",
    "- study it\n",
    "- clean it\n",
    "- split\n",
    "- train a model \n",
    "- evalute\n",
    "- retrain with test dataset"
   ]
  },
  {
   "cell_type": "markdown",
   "metadata": {},
   "source": [
    "### - import libraries for the project"
   ]
  },
  {
   "cell_type": "code",
   "execution_count": 1,
   "metadata": {},
   "outputs": [],
   "source": [
    "# import lib\n",
    "import pandas as pd\n",
    "import numpy as np\n",
    "import matplotlib.pyplot as plt\n"
   ]
  },
  {
   "cell_type": "markdown",
   "metadata": {},
   "source": [
    "#### - Prepare data"
   ]
  },
  {
   "cell_type": "code",
   "execution_count": 2,
   "metadata": {},
   "outputs": [
    {
     "name": "stdout",
     "output_type": "stream",
     "text": [
      "<class 'pandas.core.frame.DataFrame'>\n",
      "RangeIndex: 2919 entries, 0 to 2918\n",
      "Data columns (total 13 columns):\n",
      " #   Column        Non-Null Count  Dtype  \n",
      "---  ------        --------------  -----  \n",
      " 0   Id            2919 non-null   int64  \n",
      " 1   MSSubClass    2919 non-null   int64  \n",
      " 2   MSZoning      2915 non-null   object \n",
      " 3   LotArea       2919 non-null   int64  \n",
      " 4   LotConfig     2919 non-null   object \n",
      " 5   BldgType      2919 non-null   object \n",
      " 6   OverallCond   2919 non-null   int64  \n",
      " 7   YearBuilt     2919 non-null   int64  \n",
      " 8   YearRemodAdd  2919 non-null   int64  \n",
      " 9   Exterior1st   2918 non-null   object \n",
      " 10  BsmtFinSF2    2918 non-null   float64\n",
      " 11  TotalBsmtSF   2918 non-null   float64\n",
      " 12  SalePrice     1460 non-null   float64\n",
      "dtypes: float64(3), int64(6), object(4)\n",
      "memory usage: 296.6+ KB\n"
     ]
    }
   ],
   "source": [
    "# load the dataset and check the info\n",
    "df = pd.read_excel(\"./HousePricePrediction.xlsx\")\n",
    "df.info()"
   ]
  },
  {
   "cell_type": "code",
   "execution_count": null,
   "metadata": {},
   "outputs": [
    {
     "data": {
      "text/plain": [
       "Id              2919\n",
       "MSSubClass        16\n",
       "MSZoning           5\n",
       "LotArea         1951\n",
       "LotConfig          5\n",
       "BldgType           5\n",
       "OverallCond        9\n",
       "YearBuilt        118\n",
       "YearRemodAdd      61\n",
       "Exterior1st       15\n",
       "BsmtFinSF2       272\n",
       "TotalBsmtSF     1058\n",
       "SalePrice        663\n",
       "dtype: int64"
      ]
     },
     "execution_count": 3,
     "metadata": {},
     "output_type": "execute_result"
    }
   ],
   "source": [
    "# check the numbers of unique values in each columns \n",
    "df.nunique()"
   ]
  },
  {
   "cell_type": "code",
   "execution_count": 5,
   "metadata": {},
   "outputs": [
    {
     "data": {
      "text/html": [
       "<div>\n",
       "<style scoped>\n",
       "    .dataframe tbody tr th:only-of-type {\n",
       "        vertical-align: middle;\n",
       "    }\n",
       "\n",
       "    .dataframe tbody tr th {\n",
       "        vertical-align: top;\n",
       "    }\n",
       "\n",
       "    .dataframe thead th {\n",
       "        text-align: right;\n",
       "    }\n",
       "</style>\n",
       "<table border=\"1\" class=\"dataframe\">\n",
       "  <thead>\n",
       "    <tr style=\"text-align: right;\">\n",
       "      <th></th>\n",
       "      <th>id</th>\n",
       "      <th>mssubclass</th>\n",
       "      <th>mszoning</th>\n",
       "      <th>lotarea</th>\n",
       "      <th>lotconfig</th>\n",
       "      <th>bldgtype</th>\n",
       "      <th>overallcond</th>\n",
       "      <th>yearbuilt</th>\n",
       "      <th>yearremodadd</th>\n",
       "      <th>exterior1st</th>\n",
       "      <th>bsmtfinsf2</th>\n",
       "      <th>totalbsmtsf</th>\n",
       "      <th>saleprice</th>\n",
       "    </tr>\n",
       "  </thead>\n",
       "  <tbody>\n",
       "    <tr>\n",
       "      <th>0</th>\n",
       "      <td>0</td>\n",
       "      <td>60</td>\n",
       "      <td>RL</td>\n",
       "      <td>8450</td>\n",
       "      <td>Inside</td>\n",
       "      <td>1Fam</td>\n",
       "      <td>5</td>\n",
       "      <td>2003</td>\n",
       "      <td>2003</td>\n",
       "      <td>VinylSd</td>\n",
       "      <td>0.0</td>\n",
       "      <td>856.0</td>\n",
       "      <td>208500.0</td>\n",
       "    </tr>\n",
       "    <tr>\n",
       "      <th>1</th>\n",
       "      <td>1</td>\n",
       "      <td>20</td>\n",
       "      <td>RL</td>\n",
       "      <td>9600</td>\n",
       "      <td>FR2</td>\n",
       "      <td>1Fam</td>\n",
       "      <td>8</td>\n",
       "      <td>1976</td>\n",
       "      <td>1976</td>\n",
       "      <td>MetalSd</td>\n",
       "      <td>0.0</td>\n",
       "      <td>1262.0</td>\n",
       "      <td>181500.0</td>\n",
       "    </tr>\n",
       "    <tr>\n",
       "      <th>2</th>\n",
       "      <td>2</td>\n",
       "      <td>60</td>\n",
       "      <td>RL</td>\n",
       "      <td>11250</td>\n",
       "      <td>Inside</td>\n",
       "      <td>1Fam</td>\n",
       "      <td>5</td>\n",
       "      <td>2001</td>\n",
       "      <td>2002</td>\n",
       "      <td>VinylSd</td>\n",
       "      <td>0.0</td>\n",
       "      <td>920.0</td>\n",
       "      <td>223500.0</td>\n",
       "    </tr>\n",
       "    <tr>\n",
       "      <th>3</th>\n",
       "      <td>3</td>\n",
       "      <td>70</td>\n",
       "      <td>RL</td>\n",
       "      <td>9550</td>\n",
       "      <td>Corner</td>\n",
       "      <td>1Fam</td>\n",
       "      <td>5</td>\n",
       "      <td>1915</td>\n",
       "      <td>1970</td>\n",
       "      <td>Wd Sdng</td>\n",
       "      <td>0.0</td>\n",
       "      <td>756.0</td>\n",
       "      <td>140000.0</td>\n",
       "    </tr>\n",
       "    <tr>\n",
       "      <th>4</th>\n",
       "      <td>4</td>\n",
       "      <td>60</td>\n",
       "      <td>RL</td>\n",
       "      <td>14260</td>\n",
       "      <td>FR2</td>\n",
       "      <td>1Fam</td>\n",
       "      <td>5</td>\n",
       "      <td>2000</td>\n",
       "      <td>2000</td>\n",
       "      <td>VinylSd</td>\n",
       "      <td>0.0</td>\n",
       "      <td>1145.0</td>\n",
       "      <td>250000.0</td>\n",
       "    </tr>\n",
       "  </tbody>\n",
       "</table>\n",
       "</div>"
      ],
      "text/plain": [
       "   id  mssubclass mszoning  lotarea lotconfig bldgtype  overallcond  \\\n",
       "0   0          60       RL     8450    Inside     1Fam            5   \n",
       "1   1          20       RL     9600       FR2     1Fam            8   \n",
       "2   2          60       RL    11250    Inside     1Fam            5   \n",
       "3   3          70       RL     9550    Corner     1Fam            5   \n",
       "4   4          60       RL    14260       FR2     1Fam            5   \n",
       "\n",
       "   yearbuilt  yearremodadd exterior1st  bsmtfinsf2  totalbsmtsf  saleprice  \n",
       "0       2003          2003     VinylSd         0.0        856.0   208500.0  \n",
       "1       1976          1976     MetalSd         0.0       1262.0   181500.0  \n",
       "2       2001          2002     VinylSd         0.0        920.0   223500.0  \n",
       "3       1915          1970     Wd Sdng         0.0        756.0   140000.0  \n",
       "4       2000          2000     VinylSd         0.0       1145.0   250000.0  "
      ]
     },
     "execution_count": 5,
     "metadata": {},
     "output_type": "execute_result"
    }
   ],
   "source": [
    "df.head()"
   ]
  },
  {
   "cell_type": "code",
   "execution_count": 6,
   "metadata": {},
   "outputs": [
    {
     "data": {
      "text/plain": [
       "id                 0\n",
       "mssubclass         0\n",
       "mszoning           4\n",
       "lotarea            0\n",
       "lotconfig          0\n",
       "bldgtype           0\n",
       "overallcond        0\n",
       "yearbuilt          0\n",
       "yearremodadd       0\n",
       "exterior1st        1\n",
       "bsmtfinsf2         1\n",
       "totalbsmtsf        1\n",
       "saleprice       1459\n",
       "dtype: int64"
      ]
     },
     "execution_count": 6,
     "metadata": {},
     "output_type": "execute_result"
    }
   ],
   "source": [
    "df.isnull().sum()"
   ]
  },
  {
   "cell_type": "markdown",
   "metadata": {},
   "source": [
    "### - EDA"
   ]
  },
  {
   "cell_type": "code",
   "execution_count": 4,
   "metadata": {},
   "outputs": [
    {
     "data": {
      "text/plain": [
       "Index(['id', 'mssubclass', 'mszoning', 'lotarea', 'lotconfig', 'bldgtype',\n",
       "       'overallcond', 'yearbuilt', 'yearremodadd', 'exterior1st', 'bsmtfinsf2',\n",
       "       'totalbsmtsf', 'saleprice'],\n",
       "      dtype='object')"
      ]
     },
     "execution_count": 4,
     "metadata": {},
     "output_type": "execute_result"
    }
   ],
   "source": [
    "df.columns = df.columns.str.lower().str.replace(\" \", \"_\")\n",
    "df.columns"
   ]
  },
  {
   "cell_type": "code",
   "execution_count": 7,
   "metadata": {},
   "outputs": [],
   "source": [
    "df = df.drop(\"id\", axis=1)"
   ]
  },
  {
   "cell_type": "code",
   "execution_count": 8,
   "metadata": {},
   "outputs": [
    {
     "data": {
      "text/plain": [
       "mssubclass        int64\n",
       "mszoning         object\n",
       "lotarea           int64\n",
       "lotconfig        object\n",
       "bldgtype         object\n",
       "overallcond       int64\n",
       "yearbuilt         int64\n",
       "yearremodadd      int64\n",
       "exterior1st      object\n",
       "bsmtfinsf2      float64\n",
       "totalbsmtsf     float64\n",
       "saleprice       float64\n",
       "dtype: object"
      ]
     },
     "execution_count": 8,
     "metadata": {},
     "output_type": "execute_result"
    }
   ],
   "source": [
    "df.dtypes"
   ]
  },
  {
   "cell_type": "code",
   "execution_count": 9,
   "metadata": {},
   "outputs": [],
   "source": [
    "df_category = df.select_dtypes(include=\"object\").columns\n",
    "df_numerical = df.select_dtypes(include =np.number ).columns"
   ]
  },
  {
   "cell_type": "code",
   "execution_count": 10,
   "metadata": {},
   "outputs": [
    {
     "data": {
      "text/plain": [
       "Index(['mssubclass', 'lotarea', 'overallcond', 'yearbuilt', 'yearremodadd',\n",
       "       'bsmtfinsf2', 'totalbsmtsf', 'saleprice'],\n",
       "      dtype='object')"
      ]
     },
     "execution_count": 10,
     "metadata": {},
     "output_type": "execute_result"
    }
   ],
   "source": [
    "df_numerical"
   ]
  },
  {
   "cell_type": "code",
   "execution_count": 11,
   "metadata": {},
   "outputs": [],
   "source": [
    "for col in df[df_category]:\n",
    "    df[col] = df[col].str.lower().str.replace(\" \", \"_\")"
   ]
  },
  {
   "cell_type": "code",
   "execution_count": 12,
   "metadata": {},
   "outputs": [
    {
     "data": {
      "text/plain": [
       "mszoning       4\n",
       "lotconfig      0\n",
       "bldgtype       0\n",
       "exterior1st    1\n",
       "dtype: int64"
      ]
     },
     "execution_count": 12,
     "metadata": {},
     "output_type": "execute_result"
    }
   ],
   "source": [
    "df[df_category].isnull().sum()"
   ]
  },
  {
   "cell_type": "code",
   "execution_count": 13,
   "metadata": {},
   "outputs": [
    {
     "data": {
      "text/html": [
       "<div>\n",
       "<style scoped>\n",
       "    .dataframe tbody tr th:only-of-type {\n",
       "        vertical-align: middle;\n",
       "    }\n",
       "\n",
       "    .dataframe tbody tr th {\n",
       "        vertical-align: top;\n",
       "    }\n",
       "\n",
       "    .dataframe thead th {\n",
       "        text-align: right;\n",
       "    }\n",
       "</style>\n",
       "<table border=\"1\" class=\"dataframe\">\n",
       "  <thead>\n",
       "    <tr style=\"text-align: right;\">\n",
       "      <th></th>\n",
       "      <th>mszoning</th>\n",
       "      <th>lotconfig</th>\n",
       "      <th>bldgtype</th>\n",
       "      <th>exterior1st</th>\n",
       "    </tr>\n",
       "  </thead>\n",
       "  <tbody>\n",
       "    <tr>\n",
       "      <th>0</th>\n",
       "      <td>rl</td>\n",
       "      <td>inside</td>\n",
       "      <td>1fam</td>\n",
       "      <td>vinylsd</td>\n",
       "    </tr>\n",
       "    <tr>\n",
       "      <th>1</th>\n",
       "      <td>rl</td>\n",
       "      <td>fr2</td>\n",
       "      <td>1fam</td>\n",
       "      <td>metalsd</td>\n",
       "    </tr>\n",
       "    <tr>\n",
       "      <th>2</th>\n",
       "      <td>rl</td>\n",
       "      <td>inside</td>\n",
       "      <td>1fam</td>\n",
       "      <td>vinylsd</td>\n",
       "    </tr>\n",
       "    <tr>\n",
       "      <th>3</th>\n",
       "      <td>rl</td>\n",
       "      <td>corner</td>\n",
       "      <td>1fam</td>\n",
       "      <td>wd_sdng</td>\n",
       "    </tr>\n",
       "    <tr>\n",
       "      <th>4</th>\n",
       "      <td>rl</td>\n",
       "      <td>fr2</td>\n",
       "      <td>1fam</td>\n",
       "      <td>vinylsd</td>\n",
       "    </tr>\n",
       "    <tr>\n",
       "      <th>...</th>\n",
       "      <td>...</td>\n",
       "      <td>...</td>\n",
       "      <td>...</td>\n",
       "      <td>...</td>\n",
       "    </tr>\n",
       "    <tr>\n",
       "      <th>2914</th>\n",
       "      <td>rm</td>\n",
       "      <td>inside</td>\n",
       "      <td>twnhs</td>\n",
       "      <td>cemntbd</td>\n",
       "    </tr>\n",
       "    <tr>\n",
       "      <th>2915</th>\n",
       "      <td>rm</td>\n",
       "      <td>inside</td>\n",
       "      <td>twnhse</td>\n",
       "      <td>cemntbd</td>\n",
       "    </tr>\n",
       "    <tr>\n",
       "      <th>2916</th>\n",
       "      <td>rl</td>\n",
       "      <td>inside</td>\n",
       "      <td>1fam</td>\n",
       "      <td>vinylsd</td>\n",
       "    </tr>\n",
       "    <tr>\n",
       "      <th>2917</th>\n",
       "      <td>rl</td>\n",
       "      <td>inside</td>\n",
       "      <td>1fam</td>\n",
       "      <td>hdboard</td>\n",
       "    </tr>\n",
       "    <tr>\n",
       "      <th>2918</th>\n",
       "      <td>rl</td>\n",
       "      <td>inside</td>\n",
       "      <td>1fam</td>\n",
       "      <td>hdboard</td>\n",
       "    </tr>\n",
       "  </tbody>\n",
       "</table>\n",
       "<p>2914 rows × 4 columns</p>\n",
       "</div>"
      ],
      "text/plain": [
       "     mszoning lotconfig bldgtype exterior1st\n",
       "0          rl    inside     1fam     vinylsd\n",
       "1          rl       fr2     1fam     metalsd\n",
       "2          rl    inside     1fam     vinylsd\n",
       "3          rl    corner     1fam     wd_sdng\n",
       "4          rl       fr2     1fam     vinylsd\n",
       "...       ...       ...      ...         ...\n",
       "2914       rm    inside    twnhs     cemntbd\n",
       "2915       rm    inside   twnhse     cemntbd\n",
       "2916       rl    inside     1fam     vinylsd\n",
       "2917       rl    inside     1fam     hdboard\n",
       "2918       rl    inside     1fam     hdboard\n",
       "\n",
       "[2914 rows x 4 columns]"
      ]
     },
     "execution_count": 13,
     "metadata": {},
     "output_type": "execute_result"
    }
   ],
   "source": [
    "df[df_category].dropna()"
   ]
  },
  {
   "cell_type": "code",
   "execution_count": 14,
   "metadata": {},
   "outputs": [
    {
     "data": {
      "text/plain": [
       "mszoning       4\n",
       "lotconfig      0\n",
       "bldgtype       0\n",
       "exterior1st    1\n",
       "dtype: int64"
      ]
     },
     "execution_count": 14,
     "metadata": {},
     "output_type": "execute_result"
    }
   ],
   "source": [
    "df[df_category].isnull().sum()"
   ]
  },
  {
   "cell_type": "code",
   "execution_count": 16,
   "metadata": {},
   "outputs": [
    {
     "data": {
      "text/plain": [
       "mssubclass         0\n",
       "lotarea            0\n",
       "overallcond        0\n",
       "yearbuilt          0\n",
       "yearremodadd       0\n",
       "bsmtfinsf2         1\n",
       "totalbsmtsf        1\n",
       "saleprice       1459\n",
       "dtype: int64"
      ]
     },
     "execution_count": 16,
     "metadata": {},
     "output_type": "execute_result"
    }
   ],
   "source": [
    "df[df_numerical].isna().sum()"
   ]
  },
  {
   "cell_type": "code",
   "execution_count": 17,
   "metadata": {},
   "outputs": [],
   "source": [
    "df[\"saleprice\"] = df[\"saleprice\"].fillna(df[\"saleprice\"].mean())"
   ]
  },
  {
   "cell_type": "code",
   "execution_count": 19,
   "metadata": {},
   "outputs": [
    {
     "data": {
      "text/plain": [
       "0       208500.00000\n",
       "1       181500.00000\n",
       "2       223500.00000\n",
       "3       140000.00000\n",
       "4       250000.00000\n",
       "            ...     \n",
       "2914    180921.19589\n",
       "2915    180921.19589\n",
       "2916    180921.19589\n",
       "2917    180921.19589\n",
       "2918    180921.19589\n",
       "Name: saleprice, Length: 2919, dtype: float64"
      ]
     },
     "execution_count": 19,
     "metadata": {},
     "output_type": "execute_result"
    }
   ],
   "source": [
    "df[\"saleprice\"]"
   ]
  },
  {
   "cell_type": "code",
   "execution_count": 20,
   "metadata": {},
   "outputs": [],
   "source": [
    "df = df.dropna()"
   ]
  },
  {
   "cell_type": "code",
   "execution_count": 21,
   "metadata": {},
   "outputs": [
    {
     "data": {
      "text/plain": [
       "mssubclass      0\n",
       "mszoning        0\n",
       "lotarea         0\n",
       "lotconfig       0\n",
       "bldgtype        0\n",
       "overallcond     0\n",
       "yearbuilt       0\n",
       "yearremodadd    0\n",
       "exterior1st     0\n",
       "bsmtfinsf2      0\n",
       "totalbsmtsf     0\n",
       "saleprice       0\n",
       "dtype: int64"
      ]
     },
     "execution_count": 21,
     "metadata": {},
     "output_type": "execute_result"
    }
   ],
   "source": [
    "df.isnull().sum()"
   ]
  },
  {
   "cell_type": "markdown",
   "metadata": {},
   "source": [
    "### - Train model"
   ]
  },
  {
   "cell_type": "code",
   "execution_count": null,
   "metadata": {},
   "outputs": [
    {
     "data": {
      "text/plain": [
       "(1747, 583, 583)"
      ]
     },
     "execution_count": 23,
     "metadata": {},
     "output_type": "execute_result"
    }
   ],
   "source": [
    "# split dataset\n",
    "from sklearn.model_selection import train_test_split\n",
    "df_train_full, df_test = train_test_split(df, test_size=0.2, random_state=0)\n",
    "\n",
    "df_train, df_val = train_test_split(df_train_full, test_size=0.25, random_state=0)\n",
    "\n",
    "len(df_train), len(df_val), len(df_test)\n"
   ]
  },
  {
   "cell_type": "code",
   "execution_count": null,
   "metadata": {},
   "outputs": [
    {
     "data": {
      "text/plain": [
       "<Axes: ylabel='saleprice'>"
      ]
     },
     "execution_count": 24,
     "metadata": {},
     "output_type": "execute_result"
    },
    {
     "data": {
      "image/png": "[encoded data removed]",
      "text/plain": [
       "<Figure size 640x480 with 1 Axes>"
      ]
     },
     "metadata": {},
     "output_type": "display_data"
    }
   ],
   "source": [
    "\n",
    "import seaborn as sns\n",
    "\n",
    "sns.barplot(df_train['saleprice'])"
   ]
  },
  {
   "cell_type": "code",
   "execution_count": null,
   "metadata": {},
   "outputs": [],
   "source": [
    "# extract the target variable\n",
    "y_train = df_train['saleprice']\n",
    "y_test = df_test[\"saleprice\"]\n",
    "y_val = df_val[\"saleprice\"]"
   ]
  },
  {
   "cell_type": "code",
   "execution_count": null,
   "metadata": {},
   "outputs": [
    {
     "name": "stdout",
     "output_type": "stream",
     "text": [
      "mssubclass\n",
      "\n",
      "0.7110485661734773\n",
      "mszoning\n",
      "\n",
      "0.22967045310401502\n",
      "lotarea\n",
      "\n",
      "3.18641976854993\n",
      "lotconfig\n",
      "\n",
      "0.2700704109907457\n",
      "bldgtype\n",
      "\n",
      "0.216337385745406\n",
      "overallcond\n",
      "\n",
      "0.43086643274817316\n",
      "yearbuilt\n",
      "\n",
      "1.7571212801483234\n",
      "yearremodadd\n",
      "\n",
      "1.4573328493353337\n",
      "exterior1st\n",
      "\n",
      "0.6315956825891478\n",
      "bsmtfinsf2\n",
      "\n",
      "0.43601540158716645\n",
      "totalbsmtsf\n",
      "\n",
      "2.8284876622580644\n",
      "saleprice\n",
      "\n",
      "3.6069689386187074\n"
     ]
    },
    {
     "name": "stderr",
     "output_type": "stream",
     "text": [
      "c:\\Users\\David\\OneDrive\\Desktop\\project\\machine-learning\\midproject\\mlenv\\Lib\\site-packages\\sklearn\\metrics\\cluster\\_supervised.py:66: UserWarning: Clustering metrics expects discrete values but received continuous values for label, and multiclass values for target\n",
      "  warnings.warn(msg, UserWarning)\n",
      "c:\\Users\\David\\OneDrive\\Desktop\\project\\machine-learning\\midproject\\mlenv\\Lib\\site-packages\\sklearn\\metrics\\cluster\\_supervised.py:66: UserWarning: Clustering metrics expects discrete values but received continuous values for label, and multiclass values for target\n",
      "  warnings.warn(msg, UserWarning)\n",
      "c:\\Users\\David\\OneDrive\\Desktop\\project\\machine-learning\\midproject\\mlenv\\Lib\\site-packages\\sklearn\\metrics\\cluster\\_supervised.py:66: UserWarning: Clustering metrics expects discrete values but received continuous values for label, and multiclass values for target\n",
      "  warnings.warn(msg, UserWarning)\n",
      "c:\\Users\\David\\OneDrive\\Desktop\\project\\machine-learning\\midproject\\mlenv\\Lib\\site-packages\\sklearn\\metrics\\cluster\\_supervised.py:66: UserWarning: Clustering metrics expects discrete values but received continuous values for label, and multiclass values for target\n",
      "  warnings.warn(msg, UserWarning)\n",
      "c:\\Users\\David\\OneDrive\\Desktop\\project\\machine-learning\\midproject\\mlenv\\Lib\\site-packages\\sklearn\\metrics\\cluster\\_supervised.py:66: UserWarning: Clustering metrics expects discrete values but received continuous values for label, and multiclass values for target\n",
      "  warnings.warn(msg, UserWarning)\n",
      "c:\\Users\\David\\OneDrive\\Desktop\\project\\machine-learning\\midproject\\mlenv\\Lib\\site-packages\\sklearn\\metrics\\cluster\\_supervised.py:66: UserWarning: Clustering metrics expects discrete values but received continuous values for label, and multiclass values for target\n",
      "  warnings.warn(msg, UserWarning)\n",
      "c:\\Users\\David\\OneDrive\\Desktop\\project\\machine-learning\\midproject\\mlenv\\Lib\\site-packages\\sklearn\\metrics\\cluster\\_supervised.py:66: UserWarning: Clustering metrics expects discrete values but received continuous values for label, and multiclass values for target\n",
      "  warnings.warn(msg, UserWarning)\n",
      "c:\\Users\\David\\OneDrive\\Desktop\\project\\machine-learning\\midproject\\mlenv\\Lib\\site-packages\\sklearn\\metrics\\cluster\\_supervised.py:66: UserWarning: Clustering metrics expects discrete values but received continuous values for label, and multiclass values for target\n",
      "  warnings.warn(msg, UserWarning)\n",
      "c:\\Users\\David\\OneDrive\\Desktop\\project\\machine-learning\\midproject\\mlenv\\Lib\\site-packages\\sklearn\\metrics\\cluster\\_supervised.py:66: UserWarning: Clustering metrics expects discrete values but received continuous values for label, and multiclass values for target\n",
      "  warnings.warn(msg, UserWarning)\n",
      "c:\\Users\\David\\OneDrive\\Desktop\\project\\machine-learning\\midproject\\mlenv\\Lib\\site-packages\\sklearn\\metrics\\cluster\\_supervised.py:66: UserWarning: Clustering metrics expects discrete values but received continuous values for label, and multiclass values for target\n",
      "  warnings.warn(msg, UserWarning)\n",
      "c:\\Users\\David\\OneDrive\\Desktop\\project\\machine-learning\\midproject\\mlenv\\Lib\\site-packages\\sklearn\\metrics\\cluster\\_supervised.py:66: UserWarning: Clustering metrics expects discrete values but received continuous values for label, and multiclass values for target\n",
      "  warnings.warn(msg, UserWarning)\n",
      "c:\\Users\\David\\OneDrive\\Desktop\\project\\machine-learning\\midproject\\mlenv\\Lib\\site-packages\\sklearn\\metrics\\cluster\\_supervised.py:66: UserWarning: Clustering metrics expects discrete values but received continuous values for label, and continuous values for target\n",
      "  warnings.warn(msg, UserWarning)\n"
     ]
    }
   ],
   "source": [
    "# check the importance of each features\n",
    "\n",
    "from sklearn.metrics import mutual_info_score\n",
    "\n",
    "for col in df_train.columns:\n",
    "    print(col)\n",
    "    print()\n",
    "    print(mutual_info_score(df_train[\"saleprice\"], df_train[col]))\n",
    "    "
   ]
  },
  {
   "cell_type": "code",
   "execution_count": 28,
   "metadata": {},
   "outputs": [
    {
     "data": {
      "text/plain": [
       "mssubclass     -0.049021\n",
       "lotarea         0.247032\n",
       "overallcond    -0.049549\n",
       "yearbuilt       0.364672\n",
       "yearremodadd    0.366207\n",
       "bsmtfinsf2      0.000734\n",
       "totalbsmtsf     0.433770\n",
       "saleprice       1.000000\n",
       "dtype: float64"
      ]
     },
     "execution_count": 28,
     "metadata": {},
     "output_type": "execute_result"
    }
   ],
   "source": [
    "df_train[df_numerical].corrwith(df_train[\"saleprice\"])"
   ]
  },
  {
   "cell_type": "code",
   "execution_count": 32,
   "metadata": {},
   "outputs": [],
   "source": [
    "# del target in df\n",
    "del df_train['saleprice']\n",
    "del df_val['saleprice']\n",
    "del df_test['saleprice']"
   ]
  },
  {
   "cell_type": "code",
   "execution_count": 33,
   "metadata": {},
   "outputs": [],
   "source": [
    "from sklearn.feature_extraction import DictVectorizer\n",
    "from sklearn.preprocessing import OneHotEncoder\n",
    "from sklearn.ensemble import RandomForestRegressor\n",
    "from sklearn.linear_model import LinearRegression"
   ]
  },
  {
   "cell_type": "code",
   "execution_count": 35,
   "metadata": {},
   "outputs": [],
   "source": [
    "train_dic = df_train.to_dict(orient=\"records\")\n",
    "val_dic = df_val.to_dict(orient=\"records\")\n",
    "test_dic = df_test.to_dict(orient=\"records\")"
   ]
  },
  {
   "cell_type": "code",
   "execution_count": 36,
   "metadata": {},
   "outputs": [
    {
     "data": {
      "text/plain": [
       "(583, 583, 1747)"
      ]
     },
     "execution_count": 36,
     "metadata": {},
     "output_type": "execute_result"
    }
   ],
   "source": [
    "dv = DictVectorizer(sparse=False)\n",
    "X_train_d = dv.fit_transform(train_dic)\n",
    "X_test_d = dv.transform(test_dic)\n",
    "X_val_d = dv.transform(val_dic)\n",
    "\n",
    "len(X_test_d), len(X_val_d), len(X_train_d)\n"
   ]
  },
  {
   "cell_type": "code",
   "execution_count": 40,
   "metadata": {},
   "outputs": [],
   "source": [
    "from sklearn.metrics import mean_absolute_percentage_error\n"
   ]
  },
  {
   "cell_type": "markdown",
   "metadata": {},
   "source": [
    "##### - Using LinearRegression model"
   ]
  },
  {
   "cell_type": "code",
   "execution_count": 67,
   "metadata": {},
   "outputs": [
    {
     "name": "stdout",
     "output_type": "stream",
     "text": [
      "0.18732585262965964\n"
     ]
    }
   ],
   "source": [
    "model_linear = LinearRegression()\n",
    "\n",
    "model_linear.fit(X_train_d, y_train)\n",
    "y_pred_d = model_linear.predict(X_val_d)\n",
    "print(mean_absolute_percentage_error(y_val, y_pred_d))"
   ]
  },
  {
   "cell_type": "markdown",
   "metadata": {},
   "source": [
    "##### - using svm model"
   ]
  },
  {
   "cell_type": "code",
   "execution_count": 63,
   "metadata": {},
   "outputs": [
    {
     "name": "stdout",
     "output_type": "stream",
     "text": [
      "0.16793873900950654\n"
     ]
    }
   ],
   "source": [
    "# svm model\n",
    "from sklearn import svm\n",
    "from sklearn.svm import SVC\n",
    "\n",
    "model_svr = svm.SVR()\n",
    "model_svr.fit(X_train_d, y_train)\n",
    "y_pred_svr = model_svr.predict(X_val_d)\n",
    "print(mean_absolute_percentage_error(y_val, y_pred_svr))"
   ]
  },
  {
   "cell_type": "code",
   "execution_count": 65,
   "metadata": {},
   "outputs": [
    {
     "name": "stdout",
     "output_type": "stream",
     "text": [
      "0.1870785289519236\n"
     ]
    }
   ],
   "source": [
    "# random forest regression model\n",
    "model_rfr = RandomForestRegressor(n_estimators=10, max_depth=5)\n",
    "model_rfr.fit(X_train_d, y_train)\n",
    "y_pred_rfr = model_rfr.predict(X_val_d)\n",
    "\n",
    "print(mean_absolute_percentage_error(y_val, y_pred_rfr))"
   ]
  },
  {
   "cell_type": "code",
   "execution_count": 66,
   "metadata": {},
   "outputs": [
    {
     "name": "stdout",
     "output_type": "stream",
     "text": [
      "0.1853203465313679\n"
     ]
    }
   ],
   "source": [
    "model_rfr = RandomForestRegressor(n_estimators=10, max_depth=5)\n",
    "model_rfr.fit(X_train_d, y_train)\n",
    "y_pred_rfr = model_rfr.predict(X_val_d)\n",
    "\n",
    "print(mean_absolute_percentage_error(y_val, y_pred_rfr))"
   ]
  },
  {
   "cell_type": "markdown",
   "metadata": {},
   "source": [
    "##### - Save the best model"
   ]
  },
  {
   "cell_type": "code",
   "execution_count": 56,
   "metadata": {},
   "outputs": [],
   "source": [
    "import pickle as pk\n",
    "\n",
    "with open(\"model_svm.bin\",'wb') as f_out:\n",
    "    pk.dump((dv, model_svr), f_out)"
   ]
  },
  {
   "cell_type": "code",
   "execution_count": null,
   "metadata": {},
   "outputs": [],
   "source": []
  }
 ],
 "metadata": {
  "kernelspec": {
   "display_name": "mlenv",
   "language": "python",
   "name": "python3"
  },
  "language_info": {
   "codemirror_mode": {
    "name": "ipython",
    "version": 3
   },
   "file_extension": ".py",
   "mimetype": "text/x-python",
   "name": "python",
   "nbconvert_exporter": "python",
   "pygments_lexer": "ipython3",
   "version": "3.12.4"
  }
 },
 "nbformat": 4,
 "nbformat_minor": 2
}
